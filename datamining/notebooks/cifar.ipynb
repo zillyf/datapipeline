{
 "metadata": {
  "language_info": {
   "codemirror_mode": {
    "name": "ipython",
    "version": 3
   },
   "file_extension": ".py",
   "mimetype": "text/x-python",
   "name": "python",
   "nbconvert_exporter": "python",
   "pygments_lexer": "ipython3",
   "version": 3
  },
  "orig_nbformat": 4
 },
 "nbformat": 4,
 "nbformat_minor": 2,
 "cells": [
  {
   "cell_type": "code",
   "execution_count": null,
   "metadata": {},
   "outputs": [],
   "source": [
    "pip install git+https://github.com/openai/CLIP.git\n"
   ]
  },
  {
   "cell_type": "code",
   "execution_count": null,
   "metadata": {},
   "outputs": [],
   "source": [
    "import torch\n",
    "import clip\n",
    "import torchvision\n",
    "from torchvision.datasets import CIFAR10\n",
    "dataset = CIFAR10(root='data/', download=True)"
   ]
  },
  {
   "cell_type": "code",
   "execution_count": null,
   "metadata": {},
   "outputs": [],
   "source": [
    "device = \"cuda\" if torch.cuda.is_available() else \"cpu\"\n",
    "model, preprocess = clip.load(\"ViT-B/32\", device=device)\n",
    "\n",
    "num_images=dataset.data.shape[0]\n",
    "\n",
    "import numpy as np\n",
    "\n",
    "arr = np.arange(num_images)\n",
    "\n",
    "np.random.shuffle(arr)\n",
    "\n",
    "image_labels= np.zeros(num_images, dtype=int)\n",
    "i=0\n",
    "for i in range(num_images):\n",
    "  image_labels[i]=dataset[arr[i]][1]\n"
   ]
  },
  {
   "cell_type": "code",
   "execution_count": null,
   "metadata": {},
   "outputs": [],
   "source": [
    "image_features=np.zeros([dataset.data.shape[0],512])\n",
    "with torch.no_grad():\n",
    "  i=0\n",
    "  for i in range(num_images):\n",
    "    img = preprocess(dataset[arr[i]][0]).unsqueeze(0).to(device)\n",
    "    #img=dataset[i][0]\n",
    "    #img.save('test.png')\n",
    "    #image_features[i,:]= model.encode_image(img)\n",
    "    image_features[i,:]= model.encode_image(img)\n",
    "    i+=1\n",
    "    if (i%100==0):\n",
    "      print('i: '+str(i))"
   ]
  },
  {
   "cell_type": "code",
   "execution_count": null,
   "metadata": {},
   "outputs": [],
   "source": [
    "imax=1000\n",
    "import pandas as pd\n",
    "import time\n",
    "df_subset=pd.DataFrame()\n",
    "from sklearn.manifold import TSNE\n",
    "import matplotlib.pyplot as plt\n",
    "\n",
    "\n",
    "# Let's map \n",
    "time_start = time.time()\n",
    "tsne = TSNE(n_components=2, verbose=1, perplexity=40, n_iter=300)\n",
    "tsne_results = tsne.fit_transform(image_features[0:imax])\n",
    "print('t-SNE done! Time elapsed: {} seconds'.format(time.time()-time_start))"
   ]
  },
  {
   "cell_type": "code",
   "execution_count": null,
   "metadata": {},
   "outputs": [],
   "source": [
    "import seaborn as sns\n",
    "\n",
    "# Create the Plot with t-SNE. We can now clearly distinct different clusters by optical inspection\n",
    "df_subset['tsne-2d-one'] = tsne_results[:,0]\n",
    "df_subset['tsne-2d-two'] = tsne_results[:,1]\n",
    "df_subset['y'] = (image_labels[0:imax])\n",
    "plt.figure(figsize=(16,10))\n",
    "sns.scatterplot(\n",
    "    x=\"tsne-2d-one\", y=\"tsne-2d-two\",\n",
    "#    color='black',\n",
    "    hue=\"y\",\n",
    "    palette=sns.color_palette(\"hls\", 10),\n",
    "    data=df_subset,\n",
    "    legend=\"full\",\n",
    "    alpha=1.0\n",
    ")"
   ]
  }
 ]
}