{
 "cells": [
  {
   "cell_type": "code",
   "execution_count": null,
   "metadata": {},
   "outputs": [],
   "source": [
    "%matplotlib inline\n",
    "\n",
    "from pymongo import MongoClient\n",
    "import urllib.parse\n",
    "\n",
    "import os\n",
    "import sys\n",
    "import json\n",
    "from json import dumps\n",
    "\n",
    "# From within the docker-compose application, use \"mongodb_container\", for local development use \"localhost\"\n",
    "dbServer = os.getenv(\"MONGO_DB_SERVER\", \"mongodb_container:27017\")\n",
    "dbUser = os.getenv(\"MONGO_USERNAME\", \"root\")\n",
    "dbPW = os.getenv(\"MONGO_PASSWORD\", \"rootpassword\")\n",
    "\n",
    "client = MongoClient(dbServer, username=dbUser, password=dbPW)\n",
    "\n",
    "print(\"Mongo DB Connection -----\")\n",
    "print(\"server:\" + dbServer)\n",
    "print(\"user:\" + dbUser)\n",
    "\n",
    "collection = client.images.images"
   ]
  },
  {
   "cell_type": "code",
   "execution_count": null,
   "metadata": {},
   "outputs": [],
   "source": [
    "def imagelistpage(page_id: int):\n",
    "    pagesize = 50\n",
    "    skipoffset = (page_id - 1) * pagesize\n",
    "    data = []\n",
    "    for image in (\n",
    "        collection.find(\n",
    "            {},\n",
    "            {\n",
    "                \"datasetprovider\": 1,\n",
    "                \"filenameHash\": 1,\n",
    "                \"datasetname\": 1,\n",
    "                \"imageFilename\": 1,\n",
    "                \"timestamp\": 1,\n",
    "                \"velocity_lon\": 1,\n",
    "                \"yolov5\": 1,\n",
    "                \"_id\": 0,\n",
    "            },\n",
    "        )\n",
    "        .skip(skipoffset)\n",
    "        .limit(pagesize)\n",
    "    ):\n",
    "        data.append(image)\n",
    "\n",
    "    returnString = data\n",
    "    return returnString\n",
    "\n",
    "imagelistpage(1)"
   ]
  },
  {
   "cell_type": "code",
   "execution_count": null,
   "metadata": {},
   "outputs": [],
   "source": [
    "def find_velocity(min_velocity):\n",
    "    data = []\n",
    "    for image in (\n",
    "        collection.find(\n",
    "            {\"velocity_lon\": {\"$gt\": min_velocity}},\n",
    "            {\n",
    "                \"datasetprovider\": 1,\n",
    "                \"filenameHash\": 1,\n",
    "                \"imageFilename\": 1,\n",
    "                \"timestamp\": 1,\n",
    "                \"velocity_lon\": 1,\n",
    "                \"_id\": 0,\n",
    "            },\n",
    "        )\n",
    "    ):\n",
    "        data.append(image)\n",
    "\n",
    "    returnString = data\n",
    "    return returnString\n",
    "\n",
    "find_velocity(12.0)"
   ]
  },
  {
   "cell_type": "code",
   "execution_count": null,
   "metadata": {},
   "outputs": [],
   "source": [
    "def find_yolo(class_label):\n",
    "    data = []\n",
    "    for image in (\n",
    "        collection.find(\n",
    "            {\"yolov5\": {\"$elemMatch\": { \"name\": class_label}}},\n",
    "            {\n",
    "                \"datasetname\" : 1,\n",
    "                \"filenameHash\" : 1,\n",
    "                \"yolov5\": 1,\n",
    "                \"_id\": 0,\n",
    "            },\n",
    "        )\n",
    "    ):\n",
    "        data.append(image)\n",
    "\n",
    "    returnString = data\n",
    "    return returnString\n",
    "\n",
    "find_yolo('skateboard')"
   ]
  },
  {
   "cell_type": "code",
   "execution_count": null,
   "metadata": {},
   "outputs": [],
   "source": [
    "def find_complex():\n",
    "    data = []\n",
    "    for image in (\n",
    "        collection.find(\n",
    "            {\"datasetname\": {\"$in\": ['2011_09_26_drive_0002_sync','2011_09_28_drive_0047_sync']}, \"yolov5.name\": { \"$in\": ['skateboard','car']}  },\n",
    "            {\n",
    "                \"datasetname\" : 1,\n",
    "                \"filenameHash\" : 1,\n",
    "                \"yolov5\": 1,\n",
    "                \"_id\": 0,\n",
    "            },\n",
    "        ).limit(5)\n",
    "    ):\n",
    "        data.append(image)\n",
    "\n",
    "    returnString = data\n",
    "    return returnString\n",
    "    \n",
    "find_complex()"
   ]
  },
  {
   "cell_type": "code",
   "execution_count": null,
   "metadata": {},
   "outputs": [],
   "source": [
    "def distinct_datasetsnames():\n",
    "    data = []\n",
    "    result=collection.distinct(\"datasetname\"),\n",
    "    data.append(result)\n",
    "\n",
    "    returnString = data\n",
    "    return returnString\n",
    "\n",
    "distinct_datasetsnames()"
   ]
  },
  {
   "cell_type": "code",
   "execution_count": null,
   "metadata": {},
   "outputs": [],
   "source": [
    "def distinct_yolo_classes():\n",
    "    data = []\n",
    "    result=collection.distinct(\"yolov5.name\"),\n",
    "    data.append(result)\n",
    "\n",
    "    returnString = data\n",
    "    return returnString\n",
    "\n",
    "distinct_yolo_classes()"
   ]
  },
  {
   "cell_type": "code",
   "execution_count": null,
   "metadata": {},
   "outputs": [],
   "source": [
    "import matplotlib.pyplot as plt\n",
    "\n",
    "def show_image(filenameHash):\n",
    "    url = 'http://localhost:8000/imagethumbnail/'+filenameHash\n",
    "    f = urllib.request.urlopen(url)\n",
    "    a=plt.imread(f, format='JPG')\n",
    "    plt.imshow(a)\n",
    "    \n",
    "show_image('73b71cfcd213b9f75055dd9e7d327803')\n"
   ]
  },
  {
   "cell_type": "code",
   "execution_count": null,
   "metadata": {},
   "outputs": [],
   "source": [
    "\n",
    "#var collection = \"images\"; var field = \"datasetname\"; \n",
    "#db[collection].distinct(field).forEach(function(value){print(field + \", \" + value + \": \" + db.images.count({[field]: value}))})"
   ]
  }
 ],
 "metadata": {
  "kernelspec": {
   "display_name": "Python 3",
   "language": "python",
   "name": "python3"
  },
  "language_info": {
   "codemirror_mode": {
    "name": "ipython",
    "version": 3
   },
   "file_extension": ".py",
   "mimetype": "text/x-python",
   "name": "python",
   "nbconvert_exporter": "python",
   "pygments_lexer": "ipython3",
   "version": "3.8.5"
  }
 },
 "nbformat": 4,
 "nbformat_minor": 4
}