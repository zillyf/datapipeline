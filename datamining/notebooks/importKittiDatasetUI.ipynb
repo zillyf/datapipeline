{
 "metadata": {
  "language_info": {
   "codemirror_mode": {
    "name": "ipython",
    "version": 3
   },
   "file_extension": ".py",
   "mimetype": "text/x-python",
   "name": "python",
   "nbconvert_exporter": "python",
   "pygments_lexer": "ipython3",
   "version": 3
  },
  "orig_nbformat": 2
 },
 "nbformat": 4,
 "nbformat_minor": 2,
 "cells": [
  {
   "cell_type": "code",
   "execution_count": null,
   "metadata": {       "jupyter": {
           "source_hidden": true
        }},
   "outputs": [],
   "source": [
    "from json import dumps\n",
    "from kafka import KafkaProducer\n",
    "import pandas as pd\n",
    "import ipywidgets as widgets\n",
    "\n",
    "df_temp=pd.read_json('kitti_datasets.json', orient='index')\n",
    "df=df_temp.rename(columns={0: 'DatasetURL'})\n",
    "\n",
    "topic = \"send_kitti_dataset_request\"\n",
    "\n",
    "producer = KafkaProducer(\n",
    "    bootstrap_servers=[\"kafka:9093\"],\n",
    "    value_serializer=lambda x: dumps(x).encode(\"utf-8\"),\n",
    ")\n",
    "\n",
    "# Sample Usage:\n",
    "#   newDatasetID=0;\n",
    "#   newEntry = { \"KittiDatasetURL\": df.DatasetURL[newDatasetID] }\n",
    "#   producer.send(topic, value=newEntry)\n"
   ]
  },
  {
   "cell_type": "code",
   "execution_count": null,
   "metadata": {       "jupyter": {
           "source_hidden": true
        }},
   "outputs": [],
   "source": [
    "dropdownOptions=list(tuple(zip(df.index ,df.values[:,0])))\n",
    "dd=widgets.Dropdown(\n",
    "    options=dropdownOptions,\n",
    "    description='Kitti Dataset:',\n",
    "    disabled=False,\n",
    ")\n",
    "def importDataset(b):\n",
    "    # choose among the datas from list:\n",
    "    newEntry = {\n",
    "        \"KittiDatasetURL\": dd.value,\n",
    "    }\n",
    "    producer.send(topic, value=newEntry)\n",
    "    print(\"Import Dataset \"+dd.label)\n",
    "    \n",
    "buttonImport = widgets.Button(\n",
    "    description='Import',\n",
    "    disabled=False,\n",
    "    button_style='', # 'success', 'info', 'warning', 'danger' or ''\n",
    "    tooltip='Import Dataset',\n",
    "    icon='check', # (FontAwesome names without the `fa-` prefix)\n",
    ")\n",
    "buttonImport.on_click(importDataset)\n"
   ]
  },
  {
   "cell_type": "code",
   "execution_count": null,
   "metadata": {},
   "outputs": [],
   "source": [
    "widgets.Box([dd, buttonImport])"
   ]
  }
 ]
}