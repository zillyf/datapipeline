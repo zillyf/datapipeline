{
 "cells": [
  {
   "cell_type": "code",
   "execution_count": null,
   "id": "46786d7d",
   "metadata": {},
   "outputs": [],
   "source": [
    "from json import dumps\n",
    "from kafka import KafkaProducer\n",
    "import pandas as pd\n",
    "import ipywidgets as widgets\n",
    "\n",
    "df_temp=pd.read_json('kitti_datasets.json', orient='index')\n",
    "df=df_temp.rename(columns={0: 'DatasetURL'})\n",
    "\n",
    "topic = \"send_kitti_dataset_request\"\n",
    "\n",
    "producer = KafkaProducer(\n",
    "    bootstrap_servers=[\"kafka:9093\"],\n",
    "    value_serializer=lambda x: dumps(x).encode(\"utf-8\"),\n",
    ")\n",
    "\n",
    "# choose among the datas from list:\n",
    "\n",
    "newDatasetID=0;\n",
    "newEntry = {\n",
    "    \"KittiDatasetURL\": df.DatasetURL[newDatasetID],\n",
    "}\n",
    "producer.send(topic, value=newEntry)\n",
    "print(\"send:\")\n",
    "print(newEntry)"
   ]
  },
  {
   "cell_type": "code",
   "execution_count": null,
   "id": "731f92d9",
   "metadata": {},
   "outputs": [],
   "source": [
    "dropdownOptions=list(tuple(zip(df.index ,df.values[:,0])))\n",
    "\n",
    "widgets.Dropdown(\n",
    "    options=dropdownOptions,\n",
    "    description='Kitti Dataset:',\n",
    "    disabled=False,\n",
    ")"
   ]
  }
 ],
 "metadata": {
  "kernelspec": {
   "display_name": "Python 3",
   "language": "python",
   "name": "python3"
  },
  "language_info": {
   "codemirror_mode": {
    "name": "ipython",
    "version": 3
   },
   "file_extension": ".py",
   "mimetype": "text/x-python",
   "name": "python",
   "nbconvert_exporter": "python",
   "pygments_lexer": "ipython3",
   "version": "3.9.2"
  }
 },
 "nbformat": 4,
 "nbformat_minor": 5
}